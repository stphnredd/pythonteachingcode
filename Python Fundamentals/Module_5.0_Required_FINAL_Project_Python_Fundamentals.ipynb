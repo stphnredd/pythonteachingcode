{
 "cells": [
  {
   "cell_type": "markdown",
   "metadata": {},
   "source": [
    "# Final Project Required Coding Activity - Python Fundamentals  \n",
    " \n",
    "Attempt this activity only after completing all tutorials, practices, and other required code activities.\n",
    "\n",
    "| **Assignment Requirements** |\n",
    "|:-------------------------------|\n",
    "|This program requires the use of **`print`** output and use of  **`input`**, **`for`**/**`in`** loop, **`if`**, file **`open`**, **`.readline`**, **`.append`**, **`.strip`**, **`len`**. and function **`def`** and **`return`**. The code should also consider using most of the following (`.upper()` or `.lower()`, `.title()`, `print(\"hello\",end=\"\")` `else`, `elif`, `range()`, `while`, `.close()`) |\n",
    "\n",
    "\n",
    "## Program: Element_Quiz  \n",
    "In this program the user enters the name of any 5 of the first 20 Atomic Elements and is given a grade and test report for items correct and incorrect.  \n",
    "\n",
    "\n",
    "### Sample input and output:  \n",
    "```\n",
    "list any 5 of the first 20 elements in the Period table\n",
    "Enter the name of an element: argon\n",
    "Enter the name of an element: chlorine\n",
    "Enter the name of an element: sodium\n",
    "Enter the name of an element: argon\n",
    "argon was already entered          <--no duplicates allowed\n",
    "Enter the name of an element: helium\n",
    "Enter the name of an element: gold\n",
    "\n",
    "80 % correct\n",
    "Found: Argon Chlorine Sodium Helium \n",
    "Not Found: Gold \n",
    "```  \n",
    "\n",
    "\n",
    "### Create get_names() Function to collect input of 5 unique element names  \n",
    "\n",
    "- The function accepts no arguments and returns a list of 5 input strings (element names)  \n",
    "- define a list to hold the input\n",
    "- collect input of a element name  \n",
    "- if input it is **not** already in the list add the input to the list  \n",
    "- don't allow empty strings as input  \n",
    "- once 5 unique inputs **return** the list  \n",
    "\n",
    "\n",
    "### Create the Program flow  \n",
    "\n",
    "#### import the file into the Jupyter Notebook environment   \n",
    "\n",
    "- use `!curl` to download https://raw.githubusercontent.com/MicrosoftLearning/intropython/master/elements1_20.txt\" as `elements1_20.txt`  \n",
    "- open the file with the first 20 elements  \n",
    "- read one line at a time to get element names, remove any whitespace (spaces, newlines) and save each element name, as lowercase, into a list  \n",
    "\n",
    "\n",
    "####  Call the get_names() function  \n",
    "\n",
    "- the return value will be the quiz responses list  \n",
    "\n",
    "#### check if responses are in the list of elements  \n",
    "Iterate through 5 responses  \n",
    "- compare each response to the list of 20 elements\n",
    "  - any response that is in the list of 20 elements is correct and should be added to a list of correct responses  \n",
    "  - if not in the list of 20 elements then add to a list of incorrect responses  \n",
    "\n",
    "#### calculate the % correct  \n",
    " \n",
    " - find the the number of items in the correct responses and divide by 5, this will result in answers like 1.0, .8, .6,...  \n",
    " - to get the % multiple the calculated answer above by 100, this will result in answers like 100, 80, 60...  \n",
    " - *hint: instead of dividing by 5 and then multiplying by 100, the number of correct responses can be multiplied by 20*  \n",
    "\n",
    "#### Print output  \n",
    "\n",
    "- print the Score % right  \n",
    "- print each of the correct responses  \n",
    "- print each of the incorrect responses  \n",
    "\n",
    "\n",
    "### create Element_Quiz\n",
    "\n"
   ]
  },
  {
   "cell_type": "code",
   "execution_count": 1,
   "metadata": {
    "collapsed": true
   },
   "outputs": [],
   "source": [
    "# [] create Element_Quiz\n",
    "# [] copy and paste in edX assignment page\n",
    "\n",
    "\n",
    "\n"
   ]
  },
  {
   "cell_type": "markdown",
   "metadata": {},
   "source": [
    "Submit this by creating a python file (.py) and submitting it in D2L. Be sure to test that it works. Know that For this to work correctly in Python rather than Jupyter, you would need to switch to using import os rather than !curl. To convert !curl to run in the normal python interpreter try a method such as importing the os library and calling os.system(cmd) with your shell command in the cmd variable. \n"
   ]
  }
 ],
 "metadata": {
  "anaconda-cloud": {},
  "kernelspec": {
   "display_name": "Python 3",
   "language": "python",
   "name": "python3"
  },
  "language_info": {
   "codemirror_mode": {
    "name": "ipython",
    "version": 3
   },
   "file_extension": ".py",
   "mimetype": "text/x-python",
   "name": "python",
   "nbconvert_exporter": "python",
   "pygments_lexer": "ipython3",
   "version": "3.8.8"
  }
 },
 "nbformat": 4,
 "nbformat_minor": 1
}
